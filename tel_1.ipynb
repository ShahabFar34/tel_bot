{
 "cells": [
  {
   "cell_type": "code",
   "execution_count": null,
   "metadata": {},
   "outputs": [],
   "source": [
    "!pip install aiogram instaloader\n"
   ]
  },
  {
   "cell_type": "code",
   "execution_count": null,
   "metadata": {},
   "outputs": [],
   "source": [
    "import nest_asyncio\n",
    "nest_asyncio.apply()  # اینو اضافه کن تا `aiogram` توی نوت‌بوک کار کنه\n",
    "\n",
    "from aiogram import Bot, Dispatcher, types, F\n",
    "from aiogram.types import InlineKeyboardMarkup, InlineKeyboardButton\n",
    "from aiogram.fsm.storage.memory import MemoryStorage\n",
    "import instaloader\n",
    "import asyncio\n",
    "\n",
    "# --- تنظیمات ربات ---\n",
    "TOKEN = \"8054093658:AAGJFqqDo95AScZZHDVonnJhZLHRLxrL-GU\"  # جایگزین با توکن رباتت\n",
    "CHANNELS = [\"@BOHLOLOL\", \"@AKHBARE_FOURI\"]\n",
    "ADMIN_ID = 123456789  # آیدی عددی ادمین\n",
    "\n",
    "bot = Bot(token=TOKEN)\n",
    "dp = Dispatcher(storage=MemoryStorage())\n",
    "\n",
    "# --- بررسی عضویت در کانال‌ها ---\n",
    "async def check_membership(user_id):\n",
    "    for channel in CHANNELS:\n",
    "        chat_member = await bot.get_chat_member(channel, user_id)\n",
    "        if chat_member.status not in [\"member\", \"administrator\", \"creator\"]:\n",
    "            return False\n",
    "    return True\n",
    "\n",
    "# --- استارت ربات ---\n",
    "@dp.message(F.text == '/start')\n",
    "async def start_handler(message: types.Message):\n",
    "    user_id = message.from_user.id\n",
    "    if not await check_membership(user_id):\n",
    "        keyboard = InlineKeyboardMarkup()\n",
    "        for channel in CHANNELS:\n",
    "            keyboard.add(InlineKeyboardButton(\"عضویت در کانال\", url=f\"https://t.me/{channel.replace('@', '')}\"))\n",
    "        await message.answer(\"برای استفاده از ربات، ابتدا در کانال‌های زیر عضو شوید:\", reply_markup=keyboard)\n",
    "    else:\n",
    "        await message.answer(f\"سلام {message.from_user.first_name} ✅\\nلینک پست اینستاگرام را ارسال کنید تا ویدیو را برای شما ارسال کنم!\")\n",
    "\n",
    "# --- دانلود ویدیو از اینستاگرام ---\n",
    "@dp.message()\n",
    "async def download_instagram_video(message: types.Message):\n",
    "    if \"instagram.com\" in message.text:\n",
    "        loader = instaloader.Instaloader()\n",
    "        post = instaloader.Post.from_shortcode(loader.context, message.text.split('/')[-2])\n",
    "        video_url = post.video_url\n",
    "        await message.answer_video(video_url, caption=\"\")\n",
    "    else:\n",
    "        await message.answer(\"لطفاً یک لینک معتبر از اینستاگرام ارسال کنید!\")\n",
    "\n",
    "# --- اجرای ربات ---\n",
    "async def main():\n",
    "    await bot.delete_webhook(drop_pending_updates=True)\n",
    "    await dp.start_polling(bot)\n",
    "\n",
    "if __name__ == \"__main__\":\n",
    "    asyncio.run(main())\n"
   ]
  },
  {
   "cell_type": "code",
   "execution_count": null,
   "metadata": {},
   "outputs": [
    {
     "name": "stdout",
     "output_type": "stream",
     "text": [
      "Requirement already satisfied: aiogram in c:\\users\\shaha\\anaconda3\\lib\\site-packages (3.17.0)\n",
      "Collecting instaloader\n",
      "  Downloading instaloader-4.14.1-py3-none-any.whl.metadata (6.7 kB)\n",
      "Requirement already satisfied: aiofiles<24.2,>=23.2.1 in c:\\users\\shaha\\anaconda3\\lib\\site-packages (from aiogram) (24.1.0)\n",
      "Requirement already satisfied: aiohttp<3.12,>=3.9.0 in c:\\users\\shaha\\anaconda3\\lib\\site-packages (from aiogram) (3.9.5)\n",
      "Requirement already satisfied: certifi>=2023.7.22 in c:\\users\\shaha\\anaconda3\\lib\\site-packages (from aiogram) (2024.8.30)\n",
      "Requirement already satisfied: magic-filter<1.1,>=1.0.12 in c:\\users\\shaha\\anaconda3\\lib\\site-packages (from aiogram) (1.0.12)\n",
      "Requirement already satisfied: pydantic<2.11,>=2.4.1 in c:\\users\\shaha\\anaconda3\\lib\\site-packages (from aiogram) (2.5.3)\n",
      "Requirement already satisfied: typing-extensions<=5.0,>=4.7.0 in c:\\users\\shaha\\anaconda3\\lib\\site-packages (from aiogram) (4.11.0)\n",
      "Requirement already satisfied: requests>=2.25 in c:\\users\\shaha\\anaconda3\\lib\\site-packages (from instaloader) (2.32.2)\n",
      "Requirement already satisfied: aiosignal>=1.1.2 in c:\\users\\shaha\\anaconda3\\lib\\site-packages (from aiohttp<3.12,>=3.9.0->aiogram) (1.2.0)\n",
      "Requirement already satisfied: attrs>=17.3.0 in c:\\users\\shaha\\anaconda3\\lib\\site-packages (from aiohttp<3.12,>=3.9.0->aiogram) (23.1.0)\n",
      "Requirement already satisfied: frozenlist>=1.1.1 in c:\\users\\shaha\\anaconda3\\lib\\site-packages (from aiohttp<3.12,>=3.9.0->aiogram) (1.4.0)\n",
      "Requirement already satisfied: multidict<7.0,>=4.5 in c:\\users\\shaha\\anaconda3\\lib\\site-packages (from aiohttp<3.12,>=3.9.0->aiogram) (6.0.4)\n",
      "Requirement already satisfied: yarl<2.0,>=1.0 in c:\\users\\shaha\\anaconda3\\lib\\site-packages (from aiohttp<3.12,>=3.9.0->aiogram) (1.9.3)\n",
      "Requirement already satisfied: annotated-types>=0.4.0 in c:\\users\\shaha\\anaconda3\\lib\\site-packages (from pydantic<2.11,>=2.4.1->aiogram) (0.6.0)\n",
      "Requirement already satisfied: pydantic-core==2.14.6 in c:\\users\\shaha\\anaconda3\\lib\\site-packages (from pydantic<2.11,>=2.4.1->aiogram) (2.14.6)\n",
      "Requirement already satisfied: charset-normalizer<4,>=2 in c:\\users\\shaha\\anaconda3\\lib\\site-packages (from requests>=2.25->instaloader) (2.0.4)\n",
      "Requirement already satisfied: idna<4,>=2.5 in c:\\users\\shaha\\anaconda3\\lib\\site-packages (from requests>=2.25->instaloader) (3.7)\n",
      "Requirement already satisfied: urllib3<3,>=1.21.1 in c:\\users\\shaha\\anaconda3\\lib\\site-packages (from requests>=2.25->instaloader) (2.2.2)\n",
      "Downloading instaloader-4.14.1-py3-none-any.whl (67 kB)\n",
      "   ---------------------------------------- 0.0/67.9 kB ? eta -:--:--\n",
      "   ------ --------------------------------- 10.2/67.9 kB ? eta -:--:--\n",
      "   ------------ --------------------------- 20.5/67.9 kB 682.7 kB/s eta 0:00:01\n",
      "   ------------------------ --------------- 41.0/67.9 kB 326.8 kB/s eta 0:00:01\n",
      "   ------------------------------------ --- 61.4/67.9 kB 328.2 kB/s eta 0:00:01\n",
      "   ------------------------------------ --- 61.4/67.9 kB 328.2 kB/s eta 0:00:01\n",
      "   ---------------------------------------- 67.9/67.9 kB 246.5 kB/s eta 0:00:00\n",
      "Installing collected packages: instaloader\n",
      "Successfully installed instaloader-4.14.1\n"
     ]
    }
   ],
   "source": []
  },
  {
   "cell_type": "code",
   "execution_count": null,
   "metadata": {},
   "outputs": [
    {
     "name": "stdout",
     "output_type": "stream",
     "text": [
      "Name: aiogram\n",
      "Version: 3.17.0\n",
      "Summary: Modern and fully asynchronous framework for Telegram Bot API\n",
      "Home-page: \n",
      "Author: \n",
      "Author-email: Alex Root Junior <jroot.junior@gmail.com>\n",
      "License: \n",
      "Location: C:\\Users\\shaha\\anaconda3\\Lib\\site-packages\n",
      "Requires: aiofiles, aiohttp, certifi, magic-filter, pydantic, typing-extensions\n",
      "Required-by: \n"
     ]
    }
   ],
   "source": []
  },
  {
   "cell_type": "code",
   "execution_count": null,
   "metadata": {},
   "outputs": [],
   "source": []
  }
 ],
 "metadata": {
  "kernelspec": {
   "display_name": "base",
   "language": "python",
   "name": "python3"
  },
  "language_info": {
   "codemirror_mode": {
    "name": "ipython",
    "version": 3
   },
   "file_extension": ".py",
   "mimetype": "text/x-python",
   "name": "python",
   "nbconvert_exporter": "python",
   "pygments_lexer": "ipython3",
   "version": "3.12.4"
  }
 },
 "nbformat": 4,
 "nbformat_minor": 2
}
